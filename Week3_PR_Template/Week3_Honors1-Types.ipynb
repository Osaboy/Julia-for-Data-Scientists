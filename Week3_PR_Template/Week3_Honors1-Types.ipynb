{
 "cells": [
  {
   "cell_type": "code",
   "execution_count": null,
   "metadata": {},
   "outputs": [],
   "source": [
    "# Setting up a custom stylesheet in IJulia\n",
    "file = open(\"style.css\") # A .css file in the same folder as this notebook file\n",
    "styl = readall(file) # Read the file\n",
    "HTML(\"$styl\") # Output as HTML"
   ]
  },
  {
   "cell_type": "markdown",
   "metadata": {},
   "source": [
    "# Types"
   ]
  },
  {
   "cell_type": "markdown",
   "metadata": {},
   "source": [
    "<h2>In this lesson</h2>"
   ]
  },
  {
   "cell_type": "markdown",
   "metadata": {},
   "source": [
    "- [Introduction](#Introduction)\n",
    "- [Importing the packages for this lesson](#Importing-the-packages-for-this-lesson)\n",
    "- [Outcomes](#Outcomes)\n",
    "- [The type system in Julia](#The-type-system-in-Julia)\n",
    "- [Type creation](#Type-creation)\n",
    "- [Conversion and promotion](#Convertion-and-promotion)\n",
    "- [Parametrizing a type](#Parametrizing-a-type)\n",
    "- [The equality of values](#The-equality-of-values)\n",
    "- [Defining methods for functions that will use user-types](#Defining-methods-for-functions-that-will-use-user-types)\n",
    "- [Constraining field values](#Constraining-field-values)\n",
    "- [More complex parameters](#More-complex-parameters)\n",
    "- [Screen output of a user-defined type](#Screen-output-of-a-user-defined-type)"
   ]
  },
  {
   "cell_type": "markdown",
   "metadata": {},
   "source": [
    "<hr>\n",
    "<h2>Introduction</h2>"
   ]
  },
  {
   "cell_type": "markdown",
   "metadata": {},
   "source": [
    "A computer variable, which is a space in memory, holds values of different types, i.e. integers, floating point values, and strings.  In some languages the type of the value to be held inside of a variable must be explicitely declared.  These languages are termed *statically typed*.  In *dynamically typed* languages nothing is known about the type of the value held inside the variable until runtime.  Being able to write code operating on different types is termed *polymorphism*."
   ]
  },
  {
   "cell_type": "markdown",
   "metadata": {},
   "source": [
    "Julia is a dynamically typed language, yet it is possible to declare a type for values as well.  Declaring a type allows for code that is clear to understand.  As an assertion it can help to confirm that your code is working as expected.  It can also allow for faster code execution by providing the compiler with extra information."
   ]
  },
  {
   "cell_type": "markdown",
   "metadata": {},
   "source": [
    "[Back to the top](#In-this-lesson)"
   ]
  },
  {
   "cell_type": "markdown",
   "metadata": {},
   "source": [
    "<hr>\n",
    "<h2>Outcomes</h2>"
   ]
  },
  {
   "cell_type": "markdown",
   "metadata": {
    "collapsed": true
   },
   "source": [
    "After successfully completing this lecture, you will be able to:\n",
    "\n",
    "- Understand the Julia type system\n",
    "- Create your own user-defined types\n",
    "- Parametrize your types\n",
    "- Overload methods for Julia functions so that they can use your types"
   ]
  },
  {
   "cell_type": "markdown",
   "metadata": {},
   "source": [
    "[Back to the top](#In-this-lesson)"
   ]
  },
  {
   "cell_type": "markdown",
   "metadata": {
    "collapsed": true
   },
   "source": [
    "<hr>\n",
    "<h2>The type system in Julia</h2>"
   ]
  },
  {
   "cell_type": "markdown",
   "metadata": {},
   "source": [
    "Julia holds a type hierarchy that flows like the branches of a tree.  Right at the top we have a type called `Any`.  All types are subtypes of this type.  Right at the final tip of the branches we have concrete types.  They can hold values.  Supertypes of these concrete types are called abtsract types and they cannot hold values, i.e. we cannot create an instance of an abstract type."
   ]
  },
  {
   "cell_type": "markdown",
   "metadata": {},
   "source": [
    "We can use Julia to see if types are subtypes of a supertype."
   ]
  },
  {
   "cell_type": "code",
   "execution_count": null,
   "metadata": {},
   "outputs": [],
   "source": [
    "# Is Number a subtype of Any?\n",
    "Number <: Any"
   ]
  },
  {
   "cell_type": "code",
   "execution_count": null,
   "metadata": {},
   "outputs": [],
   "source": [
    "# Is Float 64 a subtype of AbstractFloat?\n",
    "Float64 <: AbstractFloat"
   ]
  },
  {
   "cell_type": "code",
   "execution_count": null,
   "metadata": {},
   "outputs": [],
   "source": [
    "# The subtypes of Any\n",
    "subtypes(Any)"
   ]
  },
  {
   "cell_type": "code",
   "execution_count": null,
   "metadata": {},
   "outputs": [],
   "source": [
    "# Subtypes of AbstractString\n",
    "subtypes(AbstractString)"
   ]
  },
  {
   "cell_type": "code",
   "execution_count": null,
   "metadata": {},
   "outputs": [],
   "source": [
    "# Subtypes of Number\n",
    "subtypes(Number)"
   ]
  },
  {
   "cell_type": "code",
   "execution_count": null,
   "metadata": {},
   "outputs": [],
   "source": [
    "# Subtypes of Real\n",
    "subtypes(Real)"
   ]
  },
  {
   "cell_type": "code",
   "execution_count": null,
   "metadata": {},
   "outputs": [],
   "source": [
    "# Subtypes of AbstractFloat\n",
    "subtypes(AbstractFloat)"
   ]
  },
  {
   "cell_type": "code",
   "execution_count": null,
   "metadata": {},
   "outputs": [],
   "source": [
    "# Subtypes of Integer\n",
    "subtypes(Integer)"
   ]
  },
  {
   "cell_type": "code",
   "execution_count": null,
   "metadata": {},
   "outputs": [],
   "source": [
    "# Subtypes of Signed\n",
    "subtypes(Signed)"
   ]
  },
  {
   "cell_type": "markdown",
   "metadata": {
    "collapsed": true
   },
   "source": [
    "[Back to the top](#In-this-lesson)"
   ]
  },
  {
   "cell_type": "markdown",
   "metadata": {},
   "source": [
    "<hr>\n",
    "<h2>Declaring a type</h2>"
   ]
  },
  {
   "cell_type": "markdown",
   "metadata": {},
   "source": [
    "A type is declared by the double colon, `::`, sign.  To the left we place the value (or placeholder for a variable, i.e. a variable name) and to the right the actual type.  In the example below we want to express the fact that the value $ 2 + 2 $ is an instance of a 64-bit integer."
   ]
  },
  {
   "cell_type": "code",
   "execution_count": null,
   "metadata": {},
   "outputs": [],
   "source": [
    "(2 + 2)::Int64"
   ]
  },
  {
   "cell_type": "markdown",
   "metadata": {},
   "source": [
    "If we typed `(2 + 2)::Float64` we would get the following error:\n",
    "```\n",
    "LoadError: TypeError: typeassert: expected Float64, got Int64\n",
    "while loading In[3], in expression starting on line 1\n",
    "```\n",
    "We used the declaration of a type as an assertion, which allowed us to see that there was something wrong with our code.  We can imagine a program where the `+()` (or a more complicated user-defined) function is called and we need the arguments to be of a certain type.  An error such as the one above can give us information about what went wrong."
   ]
  },
  {
   "cell_type": "markdown",
   "metadata": {},
   "source": [
    "Declaring a type of a local variable (inside of a function), we state that the type should always remain the same.  This is more like what would happen in a statically typed language.  It is really helpful if we want an error to be thrown should the type of a variable be changed by another part of our code.  This can lead to type instability.  It can really impact the speed of execution."
   ]
  },
  {
   "cell_type": "code",
   "execution_count": null,
   "metadata": {},
   "outputs": [],
   "source": [
    "# Creating a function with a local variable\n",
    "function static_local_variable()\n",
    "    v::Int16 = 42\n",
    "    return v\n",
    "end"
   ]
  },
  {
   "cell_type": "code",
   "execution_count": null,
   "metadata": {},
   "outputs": [],
   "source": [
    "# Calling the function\n",
    "static_local_variable()"
   ]
  },
  {
   "cell_type": "code",
   "execution_count": null,
   "metadata": {},
   "outputs": [],
   "source": [
    "# Checking the type of the answer just give\n",
    "typeof(ans)"
   ]
  },
  {
   "cell_type": "markdown",
   "metadata": {},
   "source": [
    "Remember that `v` is local to the function.  If we try and look at it value by typing `v`, we would get the following error:\n",
    "```\n",
    "LoadError: UndefVarError: v not defined\n",
    "while loading In[7], in expression starting on line 1\n",
    "```"
   ]
  },
  {
   "cell_type": "markdown",
   "metadata": {},
   "source": [
    "Now that we know something about declaring a type, let's look at creating our own types."
   ]
  },
  {
   "cell_type": "markdown",
   "metadata": {},
   "source": [
    "[Back to the top](#In-this-lesson)"
   ]
  },
  {
   "cell_type": "markdown",
   "metadata": {},
   "source": [
    "<hr>\n",
    "<h2>Type creation</h2>"
   ]
  },
  {
   "cell_type": "markdown",
   "metadata": {},
   "source": [
    "As mentioned, we can create our own types.  Consider a Cartesian coordinate system along two perpendicular axes, say $ x $ and $ y $.  A vector in the plane can be represented as a type.  The keyword we use to create a type is `type`.  If we want instances of our type to be immutable, we use the keyword `immutable`."
   ]
  },
  {
   "cell_type": "code",
   "execution_count": 1,
   "metadata": {},
   "outputs": [
    {
     "data": {
      "text/plain": [
       "Vector_2D"
      ]
     },
     "execution_count": 1,
     "metadata": {},
     "output_type": "execute_result"
    }
   ],
   "source": [
    "# Creating a concrete type called Vector_2D\n",
    "mutable struct Vector_2D\n",
    "    x::Float64 # x is a fieldname of the type and has an optional type\n",
    "    y::Float64 # y is a fieldname of the type and has an optional type\n",
    "end\n",
    "\n",
    "fieldnames(Vector_2D)\n",
    "vector2d = Vector_2D(0.1,0.1)\n",
    "typeof(vector2d)"
   ]
  },
  {
   "cell_type": "markdown",
   "metadata": {},
   "source": [
    "This is actually a composite type, since we have fields.  Composite objects declared with struct are immutable; they cannot be modified after construction. This may seem odd at first, but it has several advantages:\n",
    "\n",
    "- It can be more efficient. Some structs can be packed efficiently into arrays, and in some cases the compiler is able to avoid allocating immutable objects entirely.\n",
    "- It is not possible to violate the invariants provided by the type's constructors.\n",
    "- Code using immutable objects can be easier to reason about.\n",
    "- An immutable object might contain mutable objects, such as arrays, as fields. Those contained objects will remain mutable; only the fields of the immutable object itself cannot be changed to point to different objects.\n",
    "\n",
    "For a type that is non-composite we can imagine a simple wrapper around an already defined type, such as we do below. "
   ]
  },
  {
   "cell_type": "code",
   "execution_count": 6,
   "metadata": {},
   "outputs": [],
   "source": [
    "# A non-composite type\n",
    "struct NonComposite\n",
    "    x::Float64\n",
    "end"
   ]
  },
  {
   "cell_type": "code",
   "execution_count": 7,
   "metadata": {},
   "outputs": [
    {
     "data": {
      "text/plain": [
       "NonComposite(42.0)"
      ]
     },
     "execution_count": 7,
     "metadata": {},
     "output_type": "execute_result"
    }
   ],
   "source": [
    "my_non_composite = NonComposite(42)"
   ]
  },
  {
   "cell_type": "code",
   "execution_count": 8,
   "metadata": {},
   "outputs": [
    {
     "data": {
      "text/plain": [
       "NonComposite"
      ]
     },
     "execution_count": 8,
     "metadata": {},
     "output_type": "execute_result"
    }
   ],
   "source": [
    "# Type\n",
    "typeof(ans)"
   ]
  },
  {
   "cell_type": "markdown",
   "metadata": {},
   "source": [
    "Back to the more exciting composite types.  We can now instantiate the concrete type `Vector_2D`."
   ]
  },
  {
   "cell_type": "code",
   "execution_count": 9,
   "metadata": {},
   "outputs": [
    {
     "data": {
      "text/plain": [
       "Vector_2D(2.0, 2.0)"
      ]
     },
     "execution_count": 9,
     "metadata": {},
     "output_type": "execute_result"
    }
   ],
   "source": [
    "vector_1 = Vector_2D(2, 2)"
   ]
  },
  {
   "cell_type": "code",
   "execution_count": 10,
   "metadata": {},
   "outputs": [
    {
     "data": {
      "text/plain": [
       "Vector_2D"
      ]
     },
     "execution_count": 10,
     "metadata": {},
     "output_type": "execute_result"
    }
   ],
   "source": [
    "# The type of vector_1\n",
    "typeof(vector_1)"
   ]
  },
  {
   "cell_type": "markdown",
   "metadata": {},
   "source": [
    "Notice how we get floating point values even though we gave two integer values.  The `convert()` functions was created to change allowable values to 64-bit floating point values."
   ]
  },
  {
   "cell_type": "markdown",
   "metadata": {},
   "source": [
    "Also notice that it looks like we called a function when we typed `Vector_2D(2, 2)`.  When we define a type, constructors are created.  They allow us to create an instance of that type (sometimes referred to as an *object* of that type)."
   ]
  },
  {
   "cell_type": "markdown",
   "metadata": {},
   "source": [
    "As with functions, we can access the methods that were created with the type."
   ]
  },
  {
   "cell_type": "code",
   "execution_count": 11,
   "metadata": {},
   "outputs": [
    {
     "data": {
      "text/html": [
       "2 methods for generic function <b>Type</b>:<ul><li> Vector_2D(x::<b>Float64</b>, y::<b>Float64</b>) in Main at In[5]:3</li> <li> Vector_2D(x, y) in Main at In[5]:3</li> </ul>"
      ],
      "text/plain": [
       "# 2 methods for generic function \"(::Type)\":\n",
       "[1] Vector_2D(x::Float64, y::Float64) in Main at In[5]:3\n",
       "[2] Vector_2D(x, y) in Main at In[5]:3"
      ]
     },
     "execution_count": 11,
     "metadata": {},
     "output_type": "execute_result"
    }
   ],
   "source": [
    "methods(Vector_2D)"
   ]
  },
  {
   "cell_type": "markdown",
   "metadata": {},
   "source": [
    "We can also access the fieldnames and their values.  They are mutable, i.e. we can pass new values to them."
   ]
  },
  {
   "cell_type": "code",
   "execution_count": 12,
   "metadata": {},
   "outputs": [
    {
     "data": {
      "text/plain": [
       "(:x, :y)"
      ]
     },
     "execution_count": 12,
     "metadata": {},
     "output_type": "execute_result"
    }
   ],
   "source": [
    "# The available names (fields, fieldnames)\n",
    "# Note that they are of type Symbol\n",
    "fieldnames(Vector_2D)"
   ]
  },
  {
   "cell_type": "code",
   "execution_count": 13,
   "metadata": {},
   "outputs": [
    {
     "data": {
      "text/plain": [
       "2.0"
      ]
     },
     "execution_count": 13,
     "metadata": {},
     "output_type": "execute_result"
    }
   ],
   "source": [
    "# Getting the value of the :x field\n",
    "vector_1.x"
   ]
  },
  {
   "cell_type": "code",
   "execution_count": 14,
   "metadata": {},
   "outputs": [
    {
     "data": {
      "text/plain": [
       "2.0"
      ]
     },
     "execution_count": 14,
     "metadata": {},
     "output_type": "execute_result"
    }
   ],
   "source": [
    "# Alternative syntax using the field's symbol representation\n",
    "getfield(vector_1, :x)"
   ]
  },
  {
   "cell_type": "code",
   "execution_count": 15,
   "metadata": {},
   "outputs": [
    {
     "data": {
      "text/plain": [
       "2.0"
      ]
     },
     "execution_count": 15,
     "metadata": {},
     "output_type": "execute_result"
    }
   ],
   "source": [
    "# Another alternative notation using the index number of the fields\n",
    "getfield(vector_1, 1)"
   ]
  },
  {
   "cell_type": "code",
   "execution_count": 16,
   "metadata": {},
   "outputs": [
    {
     "data": {
      "text/plain": [
       "3"
      ]
     },
     "execution_count": 16,
     "metadata": {},
     "output_type": "execute_result"
    }
   ],
   "source": [
    "vector_1.x = 3"
   ]
  },
  {
   "cell_type": "code",
   "execution_count": 17,
   "metadata": {},
   "outputs": [
    {
     "data": {
      "text/plain": [
       "Vector_2D(3.0, 2.0)"
      ]
     },
     "execution_count": 17,
     "metadata": {},
     "output_type": "execute_result"
    }
   ],
   "source": [
    "vector_1"
   ]
  },
  {
   "cell_type": "markdown",
   "metadata": {},
   "source": [
    "Another way to pass a value to a fieldname in a type is the `setfield()` function.  We have to use the correct type for the value.  If we use an integer such as `setfield!(vector_1, :x, 4)` we would get the follwoing error:\n",
    "```\n",
    "LoadError: TypeError: setfield!: expected Float64, got Int64\n",
    "while loading In[25], in expression starting on line 1\n",
    "```"
   ]
  },
  {
   "cell_type": "code",
   "execution_count": 18,
   "metadata": {},
   "outputs": [
    {
     "data": {
      "text/plain": [
       "4.0"
      ]
     },
     "execution_count": 18,
     "metadata": {},
     "output_type": "execute_result"
    }
   ],
   "source": [
    "# Now we have to use a floating point value\n",
    "setfield!(vector_1, :x, 4.0)"
   ]
  },
  {
   "cell_type": "code",
   "execution_count": 19,
   "metadata": {},
   "outputs": [
    {
     "data": {
      "text/plain": [
       "Vector_2D(4.0, 2.0)"
      ]
     },
     "execution_count": 19,
     "metadata": {},
     "output_type": "execute_result"
    }
   ],
   "source": [
    "# vector_1 has been changed\n",
    "vector_1"
   ]
  },
  {
   "cell_type": "markdown",
   "metadata": {
    "collapsed": true
   },
   "source": [
    "[Back to the top](#In-this-lesson)"
   ]
  },
  {
   "cell_type": "markdown",
   "metadata": {},
   "source": [
    "<hr>\n",
    "<h2>Convertion and promotion</h2>"
   ]
  },
  {
   "cell_type": "markdown",
   "metadata": {},
   "source": [
    "Before we go any further, we must have a look behind the scenes.  Above we saw that an integer was converted to a floating point value as specified for the fields of our new type."
   ]
  },
  {
   "cell_type": "code",
   "execution_count": 20,
   "metadata": {},
   "outputs": [
    {
     "data": {
      "text/plain": [
       "10.0"
      ]
     },
     "execution_count": 20,
     "metadata": {},
     "output_type": "execute_result"
    }
   ],
   "source": [
    "# Using the convert function\n",
    "convert(Float64, 10)"
   ]
  },
  {
   "cell_type": "markdown",
   "metadata": {},
   "source": [
    "If precision is lost, convertion will result in an error.  For instance, `convert(Int16, 10.1)` will return:\n",
    "```\n",
    "adError: InexactError()\n",
    "while loading In[20], in expression starting on line 1\n",
    "```\n",
    "Using `convert(Int16, 10.0)` will return a value of $ 10 $, though."
   ]
  },
  {
   "cell_type": "markdown",
   "metadata": {},
   "source": [
    "Julia has a type promotion system that will try to incorporate values into a single type.  If we pass an integer and a floating point value, the integer will be promoted to a floating point value."
   ]
  },
  {
   "cell_type": "code",
   "execution_count": 21,
   "metadata": {},
   "outputs": [
    {
     "data": {
      "text/plain": [
       "(10.0, 10.0)"
      ]
     },
     "execution_count": 21,
     "metadata": {},
     "output_type": "execute_result"
    }
   ],
   "source": [
    "promote(10, 10.0)"
   ]
  },
  {
   "cell_type": "code",
   "execution_count": 22,
   "metadata": {},
   "outputs": [
    {
     "data": {
      "text/plain": [
       "Int64"
      ]
     },
     "execution_count": 22,
     "metadata": {},
     "output_type": "execute_result"
    }
   ],
   "source": [
    "typeof(10)"
   ]
  },
  {
   "cell_type": "code",
   "execution_count": 23,
   "metadata": {},
   "outputs": [
    {
     "data": {
      "text/plain": [
       "Float64"
      ]
     },
     "execution_count": 23,
     "metadata": {},
     "output_type": "execute_result"
    }
   ],
   "source": [
    "typeof(10.0)"
   ]
  },
  {
   "cell_type": "markdown",
   "metadata": {},
   "source": [
    "This promotion to a common type lifts the lid on multiple dispatch when a function is called with unspecified argument types (i.e. `Any`)."
   ]
  },
  {
   "cell_type": "markdown",
   "metadata": {},
   "source": [
    "[Back to the top](#In-this-lesson)"
   ]
  },
  {
   "cell_type": "markdown",
   "metadata": {},
   "source": [
    "<hr>\n",
    "<h2>Parametrizing a type</h2>"
   ]
  },
  {
   "cell_type": "markdown",
   "metadata": {},
   "source": [
    "When creating a user type, we need not specify the type explicitely.  We could use a parameter.  Have a look at the example below."
   ]
  },
  {
   "cell_type": "code",
   "execution_count": null,
   "metadata": {},
   "outputs": [],
   "source": [
    "type Vector_3D{T}\n",
    "    x::T\n",
    "    y::T\n",
    "    z::T\n",
    "end"
   ]
  },
  {
   "cell_type": "markdown",
   "metadata": {},
   "source": [
    "We use $ T $ as a parameter placeholder.  When we instantiate the type we can use any appropriate type, as long as all the fields values are of the same type."
   ]
  },
  {
   "cell_type": "code",
   "execution_count": null,
   "metadata": {},
   "outputs": [],
   "source": [
    "# Using 64 bit integers\n",
    "vector_2 = Vector_3D(10, 12, 8)"
   ]
  },
  {
   "cell_type": "markdown",
   "metadata": {},
   "source": [
    "If we were to execute `vector_2 = Vector_3D(10.1, 10, 8)`, we would get the following error:\n",
    "```\n",
    "LoadError: MethodError: `convert` has no method matching convert(::Type{Vector_3D{T}}, ::Float64, ::Int64, ::Int64)\n",
    "This may have arisen from a call to the constructor Vector_3D{T}(...),\n",
    "since type constructors fall back to convert methods.\n",
    "Closest candidates are:\n",
    "  Vector_3D{T}(::T, !Matched::T, !Matched::T)\n",
    "  call{T}(::Type{T}, ::Any)\n",
    "  convert{T}(::Type{T}, !Matched::T)\n",
    "while loading In[28], in expression starting on line 1\n",
    "```"
   ]
  },
  {
   "cell_type": "markdown",
   "metadata": {},
   "source": [
    "We can constrain the parametric type.  Below we allow all subtypes of of the abstract type `Real`."
   ]
  },
  {
   "cell_type": "code",
   "execution_count": null,
   "metadata": {},
   "outputs": [],
   "source": [
    "type Vector_3D_Real{T <: Real}\n",
    "    x::T\n",
    "    y::T\n",
    "    z::T\n",
    "end"
   ]
  },
  {
   "cell_type": "markdown",
   "metadata": {},
   "source": [
    "As an aside, we cannot redefine a type.  If we would use:\n",
    "```\n",
    "type Vector_3D{T}\n",
    "    x::T\n",
    "    y::T\n",
    "    z::T\n",
    "end\n",
    "```\n",
    "we would get the error:\n",
    "```\n",
    "LoadError: invalid redefinition of constant Vector_3D\n",
    "while loading In[98], in expression starting on line 1\n",
    "```"
   ]
  },
  {
   "cell_type": "code",
   "execution_count": null,
   "metadata": {},
   "outputs": [],
   "source": [
    "# Creating a new instance\n",
    "vector_3 = Vector_3D_Real(3, 3, 3)"
   ]
  },
  {
   "cell_type": "markdown",
   "metadata": {},
   "source": [
    "[Back to the top](#In-this-lesson)"
   ]
  },
  {
   "cell_type": "markdown",
   "metadata": {},
   "source": [
    "<hr>\n",
    "<h2>The equality of values</h2>"
   ]
  },
  {
   "cell_type": "markdown",
   "metadata": {},
   "source": [
    "When are two values equal?  We use a double equal sign to return a Boolean value."
   ]
  },
  {
   "cell_type": "code",
   "execution_count": null,
   "metadata": {},
   "outputs": [],
   "source": [
    "# Using the functional notation\n",
    "==(5, 5.0)"
   ]
  },
  {
   "cell_type": "markdown",
   "metadata": {},
   "source": [
    "Numbers are immutable and are compared at the bit level.  This includes their types.  We can use the `===` sign or the `is()` function to check for equality."
   ]
  },
  {
   "cell_type": "code",
   "execution_count": null,
   "metadata": {},
   "outputs": [],
   "source": [
    "is(5, 5.0)"
   ]
  },
  {
   "cell_type": "markdown",
   "metadata": {},
   "source": [
    "Where does this leave our user-defined types?  We will see below that the address in memory is checked when dealing with more complex objects such as our user-defined, composite types."
   ]
  },
  {
   "cell_type": "code",
   "execution_count": null,
   "metadata": {},
   "outputs": [],
   "source": [
    "vector_a = Vector_2D(1.0, 1.0)\n",
    "vector_b = Vector_2D(1.0, 1.0)"
   ]
  },
  {
   "cell_type": "code",
   "execution_count": null,
   "metadata": {},
   "outputs": [],
   "source": [
    "is(vector_a, vector_b)"
   ]
  },
  {
   "cell_type": "markdown",
   "metadata": {},
   "source": [
    "[Back to the top](#In-this-lesson)"
   ]
  },
  {
   "cell_type": "markdown",
   "metadata": {},
   "source": [
    "<hr>\n",
    "<h2>Defining methods for functions that will use user-types</h2>"
   ]
  },
  {
   "cell_type": "markdown",
   "metadata": {},
   "source": [
    "The summation function, `+()` has methods for adding different types.  What if we want to add two instances of our `Vector_2D` user-type?  If we were to add `vector_a` to `vector_b` we would get the following error:\n",
    "```\n",
    "LoadError: MethodError: `+` has no method matching +(::Vector_2D, ::Vector_2D)\n",
    "Closest candidates are:\n",
    "  +(::Any, ::Any, !Matched::Any, !Matched::Any...)\n",
    "```"
   ]
  },
  {
   "cell_type": "code",
   "execution_count": null,
   "metadata": {},
   "outputs": [],
   "source": [
    "# Base methods for the +() function\n",
    "methods(+)"
   ]
  },
  {
   "cell_type": "markdown",
   "metadata": {},
   "source": [
    "We have to create a method."
   ]
  },
  {
   "cell_type": "code",
   "execution_count": null,
   "metadata": {},
   "outputs": [],
   "source": [
    "import Base.+"
   ]
  },
  {
   "cell_type": "code",
   "execution_count": null,
   "metadata": {},
   "outputs": [],
   "source": [
    "+(u::Vector_2D, v::Vector_2D) = Vector_2D(u.x + v.x, u.y + v.y)"
   ]
  },
  {
   "cell_type": "code",
   "execution_count": null,
   "metadata": {},
   "outputs": [],
   "source": [
    "+(vector_a, vector_b)"
   ]
  },
  {
   "cell_type": "markdown",
   "metadata": {
    "collapsed": true
   },
   "source": [
    "[Back to the top](#In-this-lesson)"
   ]
  },
  {
   "cell_type": "markdown",
   "metadata": {},
   "source": [
    "<hr>\n",
    "<h2>Constraining field values</h2>"
   ]
  },
  {
   "cell_type": "markdown",
   "metadata": {},
   "source": [
    "We can well imagine needing to constain the values that a type can hold.  Below we create the Bloodpressure type with two fields that hold integer values.  They cannot be negative and the systolic blood pressure must be higher than the diastolic blood pressure.  We solve this problem by creating an inner constructor."
   ]
  },
  {
   "cell_type": "code",
   "execution_count": null,
   "metadata": {},
   "outputs": [],
   "source": [
    "type BloodPressure\n",
    "    # Don't leave as Any\n",
    "    systolic::Int16\n",
    "    diastolic::Int16\n",
    "    function BloodPressure(s, d)\n",
    "        # Using short-circuit evaluations && and ||\n",
    "        s < 0 && throw(ArgumentError(\"Negative pressures are not allowed!\"))\n",
    "        s <= d && throw(ArgumentError(\"The systolic blood pressure must be higher than the diastolic blood pressure!\"))\n",
    "        isa(s, Integer) || throw(ArgumentError(\"Only integer values allowed!\"))\n",
    "        isa(d, Integer) || throw(ArgumentError(\"Only integer values allowed!\"))\n",
    "        new(s, d)\n",
    "    end\n",
    "end"
   ]
  },
  {
   "cell_type": "code",
   "execution_count": null,
   "metadata": {},
   "outputs": [],
   "source": [
    "bp_1 = BloodPressure(120, 80)"
   ]
  },
  {
   "cell_type": "markdown",
   "metadata": {},
   "source": [
    "Using `bp_2 = BloodPressure(-1, 90)` will result in the error:\n",
    "```\n",
    "LoadError: ArgumentError: Negative pressures are not allowed!\n",
    "while loading In[32], in expression starting on line 1\n",
    "```"
   ]
  },
  {
   "cell_type": "markdown",
   "metadata": {},
   "source": [
    "Using `bp_2 = BloodPressure(80, 120)` will result in the error:\n",
    "```\n",
    "LoadError: ArgumentError: The systolic blood pressure must be higher than the diastolic blood pressure\n",
    "while loading In[56], in expression starting on line 1\n",
    "```"
   ]
  },
  {
   "cell_type": "markdown",
   "metadata": {},
   "source": [
    "Using `bp_2 = BloodPressure(120.0, 80)` will result in the error:\n",
    "```\n",
    "LoadError: ArgumentError: Only integer values allowed!\n",
    "while loading In[95], in expression starting on line 1\n",
    "```"
   ]
  },
  {
   "cell_type": "markdown",
   "metadata": {},
   "source": [
    "Beware.  Using inner constructors with parametrized types can lead to problems."
   ]
  },
  {
   "cell_type": "code",
   "execution_count": null,
   "metadata": {},
   "outputs": [],
   "source": [
    "type BloodPressureParametrized{T <: Real}\n",
    "    # Don't leave as Any\n",
    "    systolic::T\n",
    "    diastolic::T\n",
    "    function BloodPressureParametrized(s, d)\n",
    "        s < 0 && throw(ArgumentError(\"Negative pressures are not allowed!\"))\n",
    "        s <= d && throw(ArgumentError(\"The systolic blood pressure must be higher than the diastolic blood pressure!\"))\n",
    "        isa(s, Integer) || throw(ArgumentError(\"Only integer values allowed!\"))\n",
    "        isa(d, Integer) || throw(ArgumentError(\"Only integer values allowed!\"))\n",
    "        new(s, d)\n",
    "    end\n",
    "end"
   ]
  },
  {
   "cell_type": "markdown",
   "metadata": {},
   "source": [
    "Using `bp_3 = BloodPressureParametrized(120, 80)` will result in the error;\n",
    "```\n",
    "LoadError: MethodError: `convert` has no method matching convert(::Type{BloodPressureParametrized{T<:Real}}, ::Int64, ::Int64)\n",
    "This may have arisen from a call to the constructor BloodPressureParametrized{T<:Real}(...),\n",
    "since type constructors fall back to convert methods.\n",
    "Closest candidates are:\n",
    "  call{T}(::Type{T}, ::Any)\n",
    "  convert{T}(::Type{T}, !Matched::T)\n",
    "while loading In[102], in expression starting on line 1\n",
    "\n",
    " in call at essentials.jl:57\n",
    " ```"
   ]
  },
  {
   "cell_type": "markdown",
   "metadata": {},
   "source": [
    "Now we have to specify the type during the instantiation."
   ]
  },
  {
   "cell_type": "code",
   "execution_count": null,
   "metadata": {},
   "outputs": [],
   "source": [
    "bp_3 = BloodPressureParametrized{Int}(120, 80)"
   ]
  },
  {
   "cell_type": "code",
   "execution_count": null,
   "metadata": {},
   "outputs": [],
   "source": [
    "type BloodPressureParametrizedFixed{T <: Real}\n",
    "    systolic::T\n",
    "    diastolic::T\n",
    "    function BloodPressureParametrizedFixed(s, d)\n",
    "        s < 0 && throw(ArgumentError(\"Negative pressures are not allowed!\"))\n",
    "        s <= d && throw(ArgumentError(\"The systolic blood pressure must be higher than the diastolic blood pressure!\"))\n",
    "        new(s, d)\n",
    "    end\n",
    "end"
   ]
  },
  {
   "cell_type": "markdown",
   "metadata": {},
   "source": [
    "We can fix this by the assignment below."
   ]
  },
  {
   "cell_type": "code",
   "execution_count": null,
   "metadata": {},
   "outputs": [],
   "source": [
    "# A bit of an effort\n",
    "BloodPressureParametrizedFixed{T}(systolic::T, diastolic::T) = BloodPressureParametrizedFixed{T}(systolic, diastolic)"
   ]
  },
  {
   "cell_type": "code",
   "execution_count": null,
   "metadata": {},
   "outputs": [],
   "source": [
    "bp_4 = BloodPressureParametrizedFixed(120, 80)"
   ]
  },
  {
   "cell_type": "markdown",
   "metadata": {},
   "source": [
    "We can get way more specific.  In the code below we tell Julia that if we pass integers to the type, they should be expressed as floating point values."
   ]
  },
  {
   "cell_type": "code",
   "execution_count": null,
   "metadata": {},
   "outputs": [],
   "source": [
    "BloodPressureParametrizedFixed{T <: Int}(systolic::T, diastolic::T) = BloodPressureParametrizedFixed{Float64}(systolic, diastolic)"
   ]
  },
  {
   "cell_type": "code",
   "execution_count": null,
   "metadata": {},
   "outputs": [],
   "source": [
    "bp_5 = BloodPressureParametrizedFixed(120, 80)"
   ]
  },
  {
   "cell_type": "markdown",
   "metadata": {},
   "source": [
    "[Back to the top](#In-this-lesson)"
   ]
  },
  {
   "cell_type": "markdown",
   "metadata": {},
   "source": [
    "<hr>\n",
    "<h2>More complex parameters</h2>"
   ]
  },
  {
   "cell_type": "markdown",
   "metadata": {},
   "source": [
    "Up until now we have constrained ourselves to a single parameter.  It is possible, though, to create more than one.  Below we create a type called `Relook`.  It has one fieldname called `duration`, which must be of subtype, `Real`.  There is also a second parameter."
   ]
  },
  {
   "cell_type": "code",
   "execution_count": null,
   "metadata": {},
   "outputs": [],
   "source": [
    "type Relook{N, T<:Real}\n",
    "    duration::T\n",
    "end"
   ]
  },
  {
   "cell_type": "markdown",
   "metadata": {},
   "source": [
    "Using `patient_1 = Relook(3, 60)` will result in the error:\n",
    "```\n",
    "LoadError: MethodError: `convert` has no method matching convert(::Type{Relook{N,T}}, ::Int64, ::Int64)\n",
    "This may have arisen from a call to the constructor Relook{N,T}(...),\n",
    "since type constructors fall back to convert methods.\n",
    "Closest candidates are:\n",
    "  call{T}(::Type{T}, ::Any)\n",
    "  convert{T}(::Type{T}, !Matched::T)\n",
    "while loading In[175], in expression starting on line 1\n",
    "\n",
    " in call at essentials.jl:57\n",
    "```"
   ]
  },
  {
   "cell_type": "code",
   "execution_count": null,
   "metadata": {},
   "outputs": [],
   "source": [
    "# We have to specify the type of the second parameter\n",
    "patient_1 = Relook{4, Int16}(60)"
   ]
  },
  {
   "cell_type": "code",
   "execution_count": null,
   "metadata": {},
   "outputs": [],
   "source": [
    "patient_1.duration"
   ]
  },
  {
   "cell_type": "markdown",
   "metadata": {},
   "source": [
    "We now want to add only objects (instances) with the same value in the first parameter."
   ]
  },
  {
   "cell_type": "code",
   "execution_count": null,
   "metadata": {},
   "outputs": [],
   "source": [
    "+{N, T}(u::Relook{N, T}, v::Relook{N, T}) = Relook{N, T}(u.duration + v.duration)"
   ]
  },
  {
   "cell_type": "code",
   "execution_count": null,
   "metadata": {},
   "outputs": [],
   "source": [
    "patient_2 = Relook{4, Int16}(70)"
   ]
  },
  {
   "cell_type": "code",
   "execution_count": null,
   "metadata": {},
   "outputs": [],
   "source": [
    "patient_1 + patient_2"
   ]
  },
  {
   "cell_type": "code",
   "execution_count": null,
   "metadata": {},
   "outputs": [],
   "source": [
    "patient_3 = Relook{3, Int16}(70)"
   ]
  },
  {
   "cell_type": "markdown",
   "metadata": {},
   "source": [
    "Using `patient_1 + patient_3` will now result in the error:\n",
    "```LoadError: MethodError: `+` has no method matching +(::Relook{4,Int16}, ::Relook{3,Int16})\n",
    "Closest candidates are:\n",
    "  +(::Any, ::Any, !Matched::Any, !Matched::Any...)\n",
    "  +{N,T}(::Relook{N,T}, !Matched::Relook{N,T})\n",
    "while loading In[191], in expression starting on line 1\n",
    "```"
   ]
  },
  {
   "cell_type": "code",
   "execution_count": null,
   "metadata": {},
   "outputs": [],
   "source": [
    "patient_4 = Relook{4.0, Int16}(70)"
   ]
  },
  {
   "cell_type": "markdown",
   "metadata": {},
   "source": [
    "Using `patient_1 + patient_4` will also result in an error, because the types of `N` do not match.  The error would be:\n",
    "```\n",
    "LoadError: MethodError: `+` has no method matching +(::Relook{4,Int16}, ::Relook{4.0,Int16})\n",
    "Closest candidates are:\n",
    "  +(::Any, ::Any, !Matched::Any, !Matched::Any...)\n",
    "  +{N,T}(::Relook{N,T}, !Matched::Relook{N,T})\n",
    "  +{N,T1,T2}(::Relook{N,T1}, !Matched::Relook{N,T2})\n",
    "while loading In[210], in expression starting on line 1\n",
    "```"
   ]
  },
  {
   "cell_type": "markdown",
   "metadata": {},
   "source": [
    "Below we fix the fieldname type mismatch."
   ]
  },
  {
   "cell_type": "code",
   "execution_count": null,
   "metadata": {},
   "outputs": [],
   "source": [
    "+{N, T1, T2}(u::Relook{N, T1}, v::Relook{N, T2}) = Relook{N, promote_type(T1, T2)}(u.duration + v.duration)"
   ]
  },
  {
   "cell_type": "code",
   "execution_count": null,
   "metadata": {},
   "outputs": [],
   "source": [
    "patient_5 = Relook{4, Float64}(60)"
   ]
  },
  {
   "cell_type": "code",
   "execution_count": null,
   "metadata": {},
   "outputs": [],
   "source": [
    "# N = 4 for both patient_1 and patient_5\n",
    "# T for patient_1 is Int16 and T for patient_2 is Float64\n",
    "patient_1 + patient_5"
   ]
  },
  {
   "cell_type": "markdown",
   "metadata": {},
   "source": [
    "If we want to throw an error if the number of relooks are not equal when trying to add to obejcts of the `Relook` type, we can do the following."
   ]
  },
  {
   "cell_type": "code",
   "execution_count": null,
   "metadata": {},
   "outputs": [],
   "source": [
    "+{N1, N2, T}(u::Relook{N1, T}, v::Relook{N2, T}) = \n",
    "throw(ArgumentError(\"Cannot add durations when the number of relooks do not match.\"))"
   ]
  },
  {
   "cell_type": "markdown",
   "metadata": {},
   "source": [
    "Using `patient_1 + patient_3` will now result in the error:\n",
    "```\n",
    "LoadError: ArgumentError: Cannot add durations when the number of relooks do not match.\n",
    "while loading In[237], in expression starting on line 1\n",
    "\n",
    " in + at In[236]:1\n",
    "```"
   ]
  },
  {
   "cell_type": "markdown",
   "metadata": {},
   "source": [
    "What about calculating the natural logarithm of the duration of a `Relook` object?  We could just specify the field name."
   ]
  },
  {
   "cell_type": "code",
   "execution_count": null,
   "metadata": {},
   "outputs": [],
   "source": [
    "log(patient_1.duration)"
   ]
  },
  {
   "cell_type": "markdown",
   "metadata": {},
   "source": [
    "Better still, we could specify wat the `log` function actually does with a `Relook` object."
   ]
  },
  {
   "cell_type": "code",
   "execution_count": null,
   "metadata": {},
   "outputs": [],
   "source": [
    "import Base.log"
   ]
  },
  {
   "cell_type": "code",
   "execution_count": null,
   "metadata": {},
   "outputs": [],
   "source": [
    "log(u::Relook) = log(u.duration)"
   ]
  },
  {
   "cell_type": "code",
   "execution_count": null,
   "metadata": {},
   "outputs": [],
   "source": [
    "log(patient_1)"
   ]
  },
  {
   "cell_type": "markdown",
   "metadata": {},
   "source": [
    "We can specify a `convert` method that will convert all our `Relook` objects to numerical values which we can pass to Julia functions."
   ]
  },
  {
   "cell_type": "code",
   "execution_count": null,
   "metadata": {},
   "outputs": [],
   "source": [
    "import Base.convert"
   ]
  },
  {
   "cell_type": "code",
   "execution_count": null,
   "metadata": {},
   "outputs": [],
   "source": [
    "# The float() function tries to convert a value to a floating point value\n",
    "convert(::Type{AbstractFloat}, u::Relook) = float(u.duration)"
   ]
  },
  {
   "cell_type": "code",
   "execution_count": null,
   "metadata": {},
   "outputs": [],
   "source": [
    "# Covreting our Relook object and passing it to log10()\n",
    "log10(convert(AbstractFloat, patient_1))"
   ]
  },
  {
   "cell_type": "markdown",
   "metadata": {},
   "source": [
    "[Back to the top](#In-this-lesson)"
   ]
  },
  {
   "cell_type": "markdown",
   "metadata": {},
   "source": [
    "<hr>\n",
    "<h2>Screen output of a user-defined type</h2>"
   ]
  },
  {
   "cell_type": "markdown",
   "metadata": {},
   "source": [
    "We can create some meaning to our types by the way an object of the type is represented on the screen.  Above we just saw two values we instantiation our type `Relook`.  Let's change that a bit by overloading the `show` function."
   ]
  },
  {
   "cell_type": "code",
   "execution_count": null,
   "metadata": {},
   "outputs": [],
   "source": [
    "import Base.show"
   ]
  },
  {
   "cell_type": "code",
   "execution_count": null,
   "metadata": {},
   "outputs": [],
   "source": [
    "show{N, T}(io::IO, u::Relook{N, T}) = print(io, \"Patient with \", N, \" relook procedures totalling \", u.duration,\n",
    "\" minutes.\")"
   ]
  },
  {
   "cell_type": "code",
   "execution_count": null,
   "metadata": {},
   "outputs": [],
   "source": [
    "patient_6 = Relook{4, Int16}(60)"
   ]
  },
  {
   "cell_type": "markdown",
   "metadata": {
    "collapsed": true
   },
   "source": [
    "[Back to the top](#In-this-lesson)"
   ]
  },
  {
   "cell_type": "code",
   "execution_count": null,
   "metadata": {},
   "outputs": [],
   "source": []
  }
 ],
 "metadata": {
  "anaconda-cloud": {},
  "kernelspec": {
   "display_name": "Julia 1.0.0",
   "language": "julia",
   "name": "julia-1.0"
  },
  "language_info": {
   "file_extension": ".jl",
   "mimetype": "application/julia",
   "name": "julia",
   "version": "1.0.0"
  }
 },
 "nbformat": 4,
 "nbformat_minor": 1
}
